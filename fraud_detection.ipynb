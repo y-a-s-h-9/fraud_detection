{
 "cells": [
  {
   "cell_type": "code",
   "execution_count": null,
   "metadata": {},
   "outputs": [],
   "source": [
    "\n",
    "import pandas as pd\n",
    "import numpy as np\n",
    "from sklearn.model_selection import train_test_split\n",
    "from sklearn.preprocessing import StandardScaler\n",
    "from sklearn.ensemble import RandomForestClassifier\n",
    "from sklearn.metrics import classification_report, roc_auc_score\n",
    "\n",
    "\n",
    "data = pd.read_csv('credit_card_transactions.csv')\n",
    "\n",
    "data.fillna(method='ffill', inplace=True)\n",
    "\n",
    "data['TransactionFrequency'] = data.groupby('CustomerID')['TransactionAmount'].transform('count')\n",
    "\n",
    "data = pd.get_dummies(data, columns=['TransactionType', 'MerchantCategory'])\n",
    "\n",
    "\n",
    "X = data.drop('IsFraud', axis=1)\n",
    "y = data['IsFraud']\n",
    "X_train, X_test, y_train, y_test = train_test_split(X, y, test_size=0.3, random_state=42)\n",
    "\n",
    "\n",
    "scaler = StandardScaler()\n",
    "X_train = scaler.fit_transform(X_train)\n",
    "X_test = scaler.transform(X_test)\n",
    "\n",
    "\n",
    "model = RandomForestClassifier(n_estimators=100, random_state=42)\n",
    "model.fit(X_train, y_train)\n",
    "\n",
    "\n",
    "y_pred = model.predict(X_test)\n",
    "print(classification_report(y_test, y_pred))\n",
    "print('ROC-AUC Score:', roc_auc_score(y_test, y_pred))\n",
    "\n",
    "\n",
    "import joblib\n",
    "joblib.dump(model, 'fraud_detection_model.pkl')\n"
   ]
  }
 ],
 "metadata": {
  "language_info": {
   "name": "python"
  }
 },
 "nbformat": 4,
 "nbformat_minor": 2
}
